{
  "nbformat": 4,
  "nbformat_minor": 0,
  "metadata": {
    "colab": {
      "provenance": [],
      "toc_visible": true,
      "authorship_tag": "ABX9TyPnwUiHYLcWUTzhnTyDgW97",
      "include_colab_link": true
    },
    "kernelspec": {
      "name": "python3",
      "display_name": "Python 3"
    },
    "language_info": {
      "name": "python"
    }
  },
  "cells": [
    {
      "cell_type": "markdown",
      "metadata": {
        "id": "view-in-github",
        "colab_type": "text"
      },
      "source": [
        "<a href=\"https://colab.research.google.com/github/ownerofglory/hillel-expense-tracker-backend/blob/feature%2F79-gpt-sample-with-jupyter-noterbook/Hillel_Expense_Tracker.ipynb\" target=\"_parent\"><img src=\"https://colab.research.google.com/assets/colab-badge.svg\" alt=\"Open In Colab\"/></a>"
      ]
    },
    {
      "cell_type": "markdown",
      "source": [
        "# Hillel Expense Tracker\n",
        "### Using GPT 4o-mini"
      ],
      "metadata": {
        "id": "Xli1mqxnOhje"
      }
    },
    {
      "cell_type": "code",
      "execution_count": 8,
      "metadata": {
        "id": "XWcpB3rcManz"
      },
      "outputs": [],
      "source": [
        "import os\n",
        "from openai import OpenAI"
      ]
    },
    {
      "cell_type": "code",
      "source": [
        "from google.colab import userdata"
      ],
      "metadata": {
        "id": "Ml7HI4KjMhhE"
      },
      "execution_count": 9,
      "outputs": []
    },
    {
      "cell_type": "code",
      "source": [
        "import base64"
      ],
      "metadata": {
        "id": "eHqdayk5NsvJ"
      },
      "execution_count": 10,
      "outputs": []
    },
    {
      "cell_type": "code",
      "source": [
        "import json"
      ],
      "metadata": {
        "id": "YDwqvB6RQyBk"
      },
      "execution_count": 11,
      "outputs": []
    },
    {
      "cell_type": "code",
      "source": [
        "client = OpenAI(\n",
        "    api_key=userdata.get('OPENAI_API_KEY')\n",
        ")"
      ],
      "metadata": {
        "id": "ZrzOS3_ZMmgC"
      },
      "execution_count": 12,
      "outputs": []
    },
    {
      "cell_type": "markdown",
      "source": [
        "## Bill scanning example"
      ],
      "metadata": {
        "id": "s030LF20Oa1A"
      }
    },
    {
      "cell_type": "markdown",
      "source": [
        "### Load image and convert it into base64"
      ],
      "metadata": {
        "id": "LGJp-eUoVx2L"
      }
    },
    {
      "cell_type": "code",
      "source": [
        "with open(\"sample_data/supermarket1.jpg\", \"rb\") as image_file:\n",
        "    img_base64 = base64.b64encode(image_file.read()).decode('utf-8')"
      ],
      "metadata": {
        "id": "PQRsJvJvNxiD"
      },
      "execution_count": 14,
      "outputs": []
    },
    {
      "cell_type": "markdown",
      "source": [
        "### Create bill scanning context"
      ],
      "metadata": {
        "id": "OJWyBsqJWqTZ"
      }
    },
    {
      "cell_type": "code",
      "source": [
        "context = \"\"\"\n",
        " You are a very polite AI agent of \"Hillel Tracker App\",\n",
        " built by students and a teacher of \"Hillel IT School\" within Java Pro course.\n",
        " Your task is to parse supermarket bill and extract data about spent money.\n",
        " Consider that there are following categories for expenses:\n",
        "[Food and drinks,Utilities,Entertainment,Transport,Health and fitness,Education,Shopping,Others]\n",
        "\"\"\""
      ],
      "metadata": {
        "id": "s7Q73shnWAyM"
      },
      "execution_count": 15,
      "outputs": []
    },
    {
      "cell_type": "markdown",
      "source": [
        "### Define bill scan response schema"
      ],
      "metadata": {
        "id": "Wk8_Tg-gWvQA"
      }
    },
    {
      "cell_type": "code",
      "source": [
        "bill_scan_schema = {\n",
        "        \"type\": \"json_schema\",\n",
        "        \"json_schema\": {\n",
        "            \"name\": \"bill_scan\",\n",
        "            \"strict\": True,\n",
        "            \"schema\": {\n",
        "                \"type\": \"object\",\n",
        "                \"properties\": {\n",
        "                    \"amount\": {\n",
        "                        \"type\": \"number\",\n",
        "                        \"description\": \"The total amount of the payment.\"\n",
        "                    },\n",
        "                    \"currency\": {\n",
        "                        \"type\": \"string\",\n",
        "                        \"description\": \"The currency in which the payment is made.\"\n",
        "                    },\n",
        "                    \"category\": {\n",
        "                        \"type\": \"string\",\n",
        "                        \"description\": \"Category assigned to the payment.\"\n",
        "                    },\n",
        "                    \"description\": {\n",
        "                        \"type\": \"string\",\n",
        "                        \"description\": \"Description of the payment.\"\n",
        "                    }\n",
        "                },\n",
        "                \"required\": [\n",
        "                    \"amount\",\n",
        "                    \"currency\",\n",
        "                    \"category\",\n",
        "                    \"description\"\n",
        "                ],\n",
        "                \"additionalProperties\": False\n",
        "            }\n",
        "        }\n",
        "    }"
      ],
      "metadata": {
        "id": "il7OVhJfWbSD"
      },
      "execution_count": 16,
      "outputs": []
    },
    {
      "cell_type": "markdown",
      "source": [
        "### Call chat completion API\n",
        "\n"
      ],
      "metadata": {
        "id": "41HLKd4xV54T"
      }
    },
    {
      "cell_type": "code",
      "source": [
        "response = client.chat.completions.create(\n",
        "    model=\"gpt-4o-mini\",\n",
        "    messages=[\n",
        "        {\n",
        "            \"role\": \"system\",\n",
        "            \"content\": context\n",
        "        },\n",
        "        {\n",
        "            \"role\": \"user\",\n",
        "            \"content\": [\n",
        "                {\"type\": \"text\", \"text\": \"\"},\n",
        "                {\n",
        "                    \"type\": \"image_url\",\n",
        "                    \"image_url\": {\"url\": f\"data:image/jpeg;base64,{img_base64}\"},\n",
        "                },\n",
        "            ],\n",
        "        }\n",
        "    ],\n",
        "    response_format=bill_scan_schema\n",
        ")"
      ],
      "metadata": {
        "id": "na3JRaJONiKf"
      },
      "execution_count": 17,
      "outputs": []
    },
    {
      "cell_type": "code",
      "source": [
        "json_object = json.loads(response.choices[0].message.content)\n",
        "\n",
        "json_formatted_str = json.dumps(json_object, indent=2)\n",
        "\n",
        "print(json_formatted_str)"
      ],
      "metadata": {
        "colab": {
          "base_uri": "https://localhost:8080/"
        },
        "id": "joADYX5IQ1IN",
        "outputId": "34104750-b6c6-45ec-decf-198e4a35d171"
      },
      "execution_count": 18,
      "outputs": [
        {
          "output_type": "stream",
          "name": "stdout",
          "text": [
            "{\n",
            "  \"amount\": 100,\n",
            "  \"currency\": \"RJ\",\n",
            "  \"category\": \"Food and drinks\",\n",
            "  \"description\": \"Supermarket bill including produce and deli items.\"\n",
            "}\n"
          ]
        }
      ]
    },
    {
      "cell_type": "markdown",
      "source": [
        "## Expense categorizing example"
      ],
      "metadata": {
        "id": "eMzd0QokOyiB"
      }
    },
    {
      "cell_type": "markdown",
      "source": [
        "### Create categorizing context"
      ],
      "metadata": {
        "id": "oRJIXyMqXB6W"
      }
    },
    {
      "cell_type": "code",
      "source": [
        "context = \"\"\"\n",
        "You are a very polite AI agent of \"Hillel Tracker App\",\n",
        "built by students and a teacher of \"Hillel IT School\" within Java Pro course.\n",
        "Your task is to parse supermarket bill and extract data about spent money.\n",
        "Consider that there are following categories for expenses:\n",
        "[Food and drinks,Utilities,Entertainment,Transport,Health and fitness,Education,Shopping,Others].\n",
        "Default currency is EUR\n",
        "\"\"\""
      ],
      "metadata": {
        "id": "a4_8PzrxXF_9"
      },
      "execution_count": 19,
      "outputs": []
    },
    {
      "cell_type": "markdown",
      "source": [
        "### Define categorizing response schema"
      ],
      "metadata": {
        "id": "Nd4l54EGXwFm"
      }
    },
    {
      "cell_type": "code",
      "source": [
        "categorizing_schema = {\n",
        "        \"type\": \"json_schema\",\n",
        "        \"json_schema\": {\n",
        "            \"name\": \"categorizing\",\n",
        "            \"strict\": True,\n",
        "            \"schema\": {\n",
        "                \"type\": \"object\",\n",
        "                \"properties\": {\n",
        "                    \"amount\": {\n",
        "                        \"type\": \"number\",\n",
        "                        \"description\": \"The total amount of the payment.\"\n",
        "                    },\n",
        "                    \"currency\": {\n",
        "                        \"type\": \"string\",\n",
        "                        \"description\": \"The currency in which the payment is made.\"\n",
        "                    },\n",
        "                    \"category\": {\n",
        "                        \"type\": \"string\",\n",
        "                        \"description\": \"Category assigned to the payment.\"\n",
        "                    },\n",
        "                    \"description\": {\n",
        "                        \"type\": \"string\",\n",
        "                        \"description\": \"Description of the payment.\"\n",
        "                    }\n",
        "                },\n",
        "                \"required\": [\n",
        "                    \"amount\",\n",
        "                    \"currency\",\n",
        "                    \"category\",\n",
        "                    \"description\"\n",
        "                ],\n",
        "                \"additionalProperties\": False\n",
        "            }\n",
        "        }\n",
        "    }"
      ],
      "metadata": {
        "id": "1oGwK7xjX5q2"
      },
      "execution_count": 20,
      "outputs": []
    },
    {
      "cell_type": "markdown",
      "source": [
        "### Call chat completion API"
      ],
      "metadata": {
        "id": "5lfpVcteYKSm"
      }
    },
    {
      "cell_type": "code",
      "source": [
        "response = client.chat.completions.create(\n",
        "    model=\"gpt-4o-mini\",\n",
        "    messages=[\n",
        "        {\n",
        "            \"role\": \"system\",\n",
        "            \"content\": context\n",
        "        },\n",
        "        {\n",
        "            \"role\": \"user\",\n",
        "            \"content\": [\n",
        "                {\"type\": \"text\", \"text\": \"I went to a japanease restaurant and spent there 50 bucks\"}\n",
        "            ],\n",
        "        }\n",
        "    ],\n",
        "    response_format=categorizing_schema\n",
        ")"
      ],
      "metadata": {
        "id": "jDNPC4w0OP7J"
      },
      "execution_count": 21,
      "outputs": []
    },
    {
      "cell_type": "code",
      "source": [
        "json_object = json.loads(response.choices[0].message.content)\n",
        "\n",
        "json_formatted_str = json.dumps(json_object, indent=2)\n",
        "\n",
        "print(json_formatted_str)"
      ],
      "metadata": {
        "colab": {
          "base_uri": "https://localhost:8080/"
        },
        "id": "LctyLPOrPhoc",
        "outputId": "d9c7c95d-292a-4d99-a5a3-d80381a2b33f"
      },
      "execution_count": 22,
      "outputs": [
        {
          "output_type": "stream",
          "name": "stdout",
          "text": [
            "{\n",
            "  \"amount\": 50,\n",
            "  \"currency\": \"EUR\",\n",
            "  \"category\": \"Food and drinks\",\n",
            "  \"description\": \"Dinner at a Japanese restaurant\"\n",
            "}\n"
          ]
        }
      ]
    },
    {
      "cell_type": "code",
      "source": [],
      "metadata": {
        "id": "aAb03p8qPilN"
      },
      "execution_count": null,
      "outputs": []
    }
  ]
}